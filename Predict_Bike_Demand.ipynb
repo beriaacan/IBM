{
  "nbformat": 4,
  "nbformat_minor": 0,
  "metadata": {
    "colab": {
      "provenance": [],
      "authorship_tag": "ABX9TyNgaRArzdAc7CdZ4t/ULZrY",
      "include_colab_link": true
    },
    "kernelspec": {
      "name": "python3",
      "display_name": "Python 3"
    },
    "language_info": {
      "name": "python"
    }
  },
  "cells": [
    {
      "cell_type": "markdown",
      "metadata": {
        "id": "view-in-github",
        "colab_type": "text"
      },
      "source": [
        "<a href=\"https://colab.research.google.com/github/beriaacan/IBM/blob/main/Predict_Bike_Demand.ipynb\" target=\"_parent\"><img src=\"https://colab.research.google.com/assets/colab-badge.svg\" alt=\"Open In Colab\"/></a>"
      ]
    },
    {
      "cell_type": "markdown",
      "source": [
        "<h1> Predict Bike Demand </h1>\n",
        "RideIt is a Washington, D.C based bike-sharing service (application) that allows users to rent a bike from one place and leave it somewhere else. Bike sharing is a process that is highly correlated to seasonal and environmental factors like the day of the week, weather conditions, season, etc. The company is interested in building a system that will help them predict the hourly rental count in order to effectively manage demand and supply.\n",
        "\n",
        "There is historical data collected through the app. The data consists of seasonal and weather information, among other features, on an hourly basis.\n",
        "\n",
        "Using machine learning, build a model to predict rental count and analyze which factors contribute the most in making this prediction.   \n",
        "\n",
        "<h3> Files: </h3>\n",
        "\n",
        "train.csv - data used for training along with target variable\n",
        "\n",
        "test.csv – data on which predictions are to be made\n",
        "\n",
        "sample_submission.csv – sample format of submission\n",
        "\n",
        "<h3> Problem: </h3>\n",
        "\n",
        "Perform an analysis of the given data to determine how different features are related to the demand.  Build a machine learning model that can predict the demand.\n",
        "\n",
        "\n",
        "\n",
        "For each record in the test set (test.csv), predict the value of the demand variable. Submit a CSV file with a header row plus each of the test entries, each on its own line.\n",
        "\n",
        "\n",
        "\n",
        "The file (submissions.csv) should have exactly 2 columns:\n",
        "- id\n",
        "- demand\n",
        "\n",
        "<h3> Deliverables: </h3>\n",
        "\n",
        "Well commented Jupyter notebook\n",
        "“submissions.csv”\n",
        "\n",
        "\n",
        " Explore the data, make visualizations, and generate new features if required. Make appropriate plots, annotate the notebook with markdowns and explain necessary inferences. A person should be able to read the notebook and understand the steps taken as well as the reasoning behind them. The solution will be graded on the basis of usage of effective visualizations to convey the analysis and the modeling process.\n",
        "\n",
        "\n",
        "<h3> Evaluation Metric: </h3>\n",
        "\n",
        "The metric used for evaluating the performance of Mean Absolute Error.\n",
        "\n",
        "MAE = Mean of absolute of differences between actuals and prediction"
      ],
      "metadata": {
        "id": "auRfdg3zX0nk"
      }
    },
    {
      "cell_type": "code",
      "source": [],
      "metadata": {
        "id": "iCfDazUqGNM1"
      },
      "execution_count": null,
      "outputs": []
    },
    {
      "cell_type": "markdown",
      "source": [],
      "metadata": {
        "id": "IDFNtRi4Fcz6"
      }
    }
  ]
}