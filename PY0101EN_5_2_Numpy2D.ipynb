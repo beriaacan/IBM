{
  "metadata": {
    "kernelspec": {
      "display_name": "Python",
      "language": "python",
      "name": "conda-env-python-py"
    },
    "language_info": {
      "name": ""
    },
    "colab": {
      "provenance": [],
      "include_colab_link": true
    }
  },
  "nbformat_minor": 0,
  "nbformat": 4,
  "cells": [
    {
      "cell_type": "markdown",
      "metadata": {
        "id": "view-in-github",
        "colab_type": "text"
      },
      "source": [
        "<a href=\"https://colab.research.google.com/github/beriaacan/IBM/blob/main/PY0101EN_5_2_Numpy2D.ipynb\" target=\"_parent\"><img src=\"https://colab.research.google.com/assets/colab-badge.svg\" alt=\"Open In Colab\"/></a>"
      ]
    },
    {
      "cell_type": "markdown",
      "source": [
        "<p style=\"text-align:center\">\n",
        "    <a href=\"https://skills.network/?utm_medium=Exinfluencer&utm_source=Exinfluencer&utm_content=000026UJ&utm_term=10006555&utm_id=NA-SkillsNetwork-Channel-SkillsNetworkCoursesIBMDeveloperSkillsNetworkPY0101ENSkillsNetwork1005-2022-01-01\" target=\"_blank\">\n",
        "    <img src=\"https://cf-courses-data.s3.us.cloud-object-storage.appdomain.cloud/assets/logos/SN_web_lightmode.png\" width=\"200\" alt=\"Skills Network Logo\"  />\n",
        "    </a>\n",
        "</p>\n",
        "\n",
        "\n",
        "# 2D Numpy in Python\n",
        "\n",
        "\n",
        "Estimated time needed: **20** minutes\n",
        "    \n",
        "\n",
        "## Objectives\n",
        "\n",
        "After completing this lab you will be able to:\n",
        "\n",
        "* Operate comfortably with `numpy`\n",
        "* Perform complex operations with `numpy`\n"
      ],
      "metadata": {
        "id": "uGAqEab_v5dT"
      }
    },
    {
      "cell_type": "markdown",
      "source": [
        "<h2>Table of Contents</h2>\n",
        "<div class=\"alert alert-block alert-info\" style=\"margin-top: 20px\">\n",
        "    <ul>\n",
        "        <li><a href=\"create\">Create a 2D Numpy Array</a></li>\n",
        "        <li><a href=\"access\">Accessing different elements of a Numpy Array</a></li>\n",
        "        <li><a href=\"op\">Basic Operations</a></li>\n",
        "    </ul>\n",
        "  \n",
        "</div>\n",
        "\n",
        "<hr>\n"
      ],
      "metadata": {
        "id": "ccuqWpByv5dV"
      }
    },
    {
      "cell_type": "markdown",
      "source": [
        "<h2 id=\"create\">Create a 2D Numpy Array</h2>\n"
      ],
      "metadata": {
        "id": "-DvvPN9jv5dV"
      }
    },
    {
      "cell_type": "code",
      "source": [
        "# Import the libraries\n",
        "\n",
        "import numpy as np\n",
        "import matplotlib.pyplot as plt"
      ],
      "metadata": {
        "id": "Lmcpa06Wv5dW"
      },
      "execution_count": null,
      "outputs": []
    },
    {
      "cell_type": "markdown",
      "source": [
        "Consider the list <code>a</code>, which contains three nested lists **each of equal size**.\n"
      ],
      "metadata": {
        "id": "FTvqMHFMv5dW"
      }
    },
    {
      "cell_type": "code",
      "source": [
        "# Create a list\n",
        "\n",
        "a = [[11, 12, 13], [21, 22, 23], [31, 32, 33]]\n",
        "a"
      ],
      "metadata": {
        "id": "qoqJ_zsyv5dW"
      },
      "execution_count": null,
      "outputs": []
    },
    {
      "cell_type": "markdown",
      "source": [
        "We can cast the list to a Numpy Array as follows:\n"
      ],
      "metadata": {
        "id": "nFuIqwIav5dW"
      }
    },
    {
      "cell_type": "code",
      "source": [
        "# Convert list to Numpy Array\n",
        "# Every element is the same type\n",
        "\n",
        "A = np.array(a)\n",
        "A"
      ],
      "metadata": {
        "id": "JKOOWmwtv5dX"
      },
      "execution_count": null,
      "outputs": []
    },
    {
      "cell_type": "markdown",
      "source": [
        "We can use the attribute <code>ndim</code> to obtain the number of axes or dimensions, referred to as the rank.\n"
      ],
      "metadata": {
        "id": "HYzXKbxuv5dX"
      }
    },
    {
      "cell_type": "code",
      "source": [
        "# Show the numpy array dimensions\n",
        "\n",
        "A.ndim"
      ],
      "metadata": {
        "id": "poBQk9_Av5dX"
      },
      "execution_count": null,
      "outputs": []
    },
    {
      "cell_type": "markdown",
      "source": [
        "Attribute <code>shape</code> returns a tuple corresponding to the size or number of each dimension.\n"
      ],
      "metadata": {
        "id": "KA52a5Pzv5dX"
      }
    },
    {
      "cell_type": "code",
      "source": [
        "# Show the numpy array shape\n",
        "\n",
        "A.shape"
      ],
      "metadata": {
        "id": "pwKGxtpFv5dX"
      },
      "execution_count": null,
      "outputs": []
    },
    {
      "cell_type": "markdown",
      "source": [
        "The total number of elements in the array is given by the attribute <code>size</code>.\n"
      ],
      "metadata": {
        "id": "d7Y0aS5ev5dX"
      }
    },
    {
      "cell_type": "code",
      "source": [
        "# Show the numpy array size\n",
        "\n",
        "A.size"
      ],
      "metadata": {
        "id": "EaoLNjASv5dX"
      },
      "execution_count": null,
      "outputs": []
    },
    {
      "cell_type": "markdown",
      "source": [
        "<hr>\n"
      ],
      "metadata": {
        "id": "9evXQAv1v5dY"
      }
    },
    {
      "cell_type": "markdown",
      "source": [
        "<h2 id=\"access\">Accessing different elements of a Numpy Array</h2>\n"
      ],
      "metadata": {
        "id": "Tzd0_KYFv5dY"
      }
    },
    {
      "cell_type": "markdown",
      "source": [
        "We can use rectangular brackets to access the different elements of the array. The correspondence between the rectangular brackets and the list and the rectangular representation is shown in the following figure for a 3x3 array:  \n"
      ],
      "metadata": {
        "id": "RQ8oLjIav5dY"
      }
    },
    {
      "cell_type": "markdown",
      "source": [
        "<img src=\"https://cf-courses-data.s3.us.cloud-object-storage.appdomain.cloud/IBMDeveloperSkillsNetwork-PY0101EN-SkillsNetwork/labs/Module%205/images/NumTwoEg.png\" width=\"500\">\n"
      ],
      "metadata": {
        "id": "bh56ICk7v5dY"
      }
    },
    {
      "cell_type": "markdown",
      "source": [
        "We can access the 2nd-row, 3rd column as shown in the following figure:\n"
      ],
      "metadata": {
        "id": "jQqKPpyiv5dY"
      }
    },
    {
      "cell_type": "markdown",
      "source": [
        "<img src=\"https://cf-courses-data.s3.us.cloud-object-storage.appdomain.cloud/IBMDeveloperSkillsNetwork-PY0101EN-SkillsNetwork/labs/Module%205/images/NumTwoFT.png\" width=\"400\">\n"
      ],
      "metadata": {
        "id": "tx-Ofgk4v5dY"
      }
    },
    {
      "cell_type": "markdown",
      "source": [
        " We simply use the square brackets and the indices corresponding to the element we would like:\n"
      ],
      "metadata": {
        "id": "6U298HxVv5dY"
      }
    },
    {
      "cell_type": "code",
      "source": [
        "# Access the element on the second row and third column\n",
        "\n",
        "A[1, 2]"
      ],
      "metadata": {
        "id": "l8w7bK0yv5dY"
      },
      "execution_count": null,
      "outputs": []
    },
    {
      "cell_type": "markdown",
      "source": [
        " We can also use the following notation to obtain the elements:\n"
      ],
      "metadata": {
        "id": "zNa8fm-Ov5dY"
      }
    },
    {
      "cell_type": "code",
      "source": [
        "# Access the element on the second row and third column\n",
        "\n",
        "A[1][2]"
      ],
      "metadata": {
        "id": "RvFehXi8v5dY"
      },
      "execution_count": null,
      "outputs": []
    },
    {
      "cell_type": "markdown",
      "source": [
        " Consider the elements shown in the following figure\n"
      ],
      "metadata": {
        "id": "WyZX0WROv5dY"
      }
    },
    {
      "cell_type": "markdown",
      "source": [
        "<img src=\"https://cf-courses-data.s3.us.cloud-object-storage.appdomain.cloud/IBMDeveloperSkillsNetwork-PY0101EN-SkillsNetwork/labs/Module%205/images/NumTwoFF.png\" width=\"400\">\n"
      ],
      "metadata": {
        "id": "WZb4S6dov5dZ"
      }
    },
    {
      "cell_type": "markdown",
      "source": [
        "We can access the element as follows:\n"
      ],
      "metadata": {
        "id": "dZ4Vjg1Kv5dZ"
      }
    },
    {
      "cell_type": "code",
      "source": [
        "# Access the element on the first row and first column\n",
        "\n",
        "A[0][0]"
      ],
      "metadata": {
        "id": "VG87u2Zsv5dZ"
      },
      "execution_count": null,
      "outputs": []
    },
    {
      "cell_type": "markdown",
      "source": [
        "We can also use slicing in numpy arrays. Consider the following figure. We would like to obtain the first two columns in the first row\n"
      ],
      "metadata": {
        "id": "z-gyYyxFv5dZ"
      }
    },
    {
      "cell_type": "markdown",
      "source": [
        "<img src=\"https://cf-courses-data.s3.us.cloud-object-storage.appdomain.cloud/IBMDeveloperSkillsNetwork-PY0101EN-SkillsNetwork/labs/Module%205/images/NumTwoFSF.png\" width=\"400\">\n"
      ],
      "metadata": {
        "id": "iH73cUo4v5dZ"
      }
    },
    {
      "cell_type": "markdown",
      "source": [
        " This can be done with the following syntax:\n"
      ],
      "metadata": {
        "id": "nBE3FwGFv5dZ"
      }
    },
    {
      "cell_type": "code",
      "source": [
        "# Access the element on the first row and first and second columns\n",
        "\n",
        "A[0][0:2]"
      ],
      "metadata": {
        "id": "nIB-qMK4v5dZ"
      },
      "execution_count": null,
      "outputs": []
    },
    {
      "cell_type": "markdown",
      "source": [
        "Similarly, we can obtain the first two rows of the 3rd column as follows:\n"
      ],
      "metadata": {
        "id": "fqaBIjzbv5dZ"
      }
    },
    {
      "cell_type": "code",
      "source": [
        "# Access the element on the first and second rows and third column\n",
        "\n",
        "A[0:2, 2]"
      ],
      "metadata": {
        "id": "Cmc-iE-3v5dZ"
      },
      "execution_count": null,
      "outputs": []
    },
    {
      "cell_type": "markdown",
      "source": [
        "Corresponding to the following figure:\n"
      ],
      "metadata": {
        "id": "5NssOkJov5dZ"
      }
    },
    {
      "cell_type": "markdown",
      "source": [
        "<img src=\"https://cf-courses-data.s3.us.cloud-object-storage.appdomain.cloud/IBMDeveloperSkillsNetwork-PY0101EN-SkillsNetwork/labs/Module%205/images/2D_numpy.png\" width=\"550\"><br />\n"
      ],
      "metadata": {
        "id": "FrU-Oaj1v5da"
      }
    },
    {
      "cell_type": "markdown",
      "source": [
        "<h2 id=\"op\">Basic Operations</h2>\n"
      ],
      "metadata": {
        "id": "SGaLkuZtv5da"
      }
    },
    {
      "cell_type": "markdown",
      "source": [
        "We can also add arrays. The process is identical to matrix addition. Matrix addition of <code>X</code> and <code>Y</code> is shown in the following figure:\n"
      ],
      "metadata": {
        "id": "nrrRMEMav5da"
      }
    },
    {
      "cell_type": "markdown",
      "source": [
        "<img src=\"https://cf-courses-data.s3.us.cloud-object-storage.appdomain.cloud/IBMDeveloperSkillsNetwork-PY0101EN-SkillsNetwork/labs/Module%205/images/NumTwoAdd.png\" width=\"500\">\n"
      ],
      "metadata": {
        "id": "pts42z2zv5da"
      }
    },
    {
      "cell_type": "markdown",
      "source": [
        "The numpy array is given by <code>X</code> and <code>Y</code>\n"
      ],
      "metadata": {
        "id": "kiLkT4z_v5dd"
      }
    },
    {
      "cell_type": "code",
      "source": [
        "# Create a numpy array X\n",
        "\n",
        "X = np.array([[1, 0], [0, 1]])\n",
        "X"
      ],
      "metadata": {
        "id": "X_WnWjIRv5de"
      },
      "execution_count": null,
      "outputs": []
    },
    {
      "cell_type": "code",
      "source": [
        "# Create a numpy array Y\n",
        "\n",
        "Y = np.array([[2, 1], [1, 2]])\n",
        "Y"
      ],
      "metadata": {
        "id": "GWbWKR_cv5de"
      },
      "execution_count": null,
      "outputs": []
    },
    {
      "cell_type": "markdown",
      "source": [
        " We can add the numpy arrays as follows.\n"
      ],
      "metadata": {
        "id": "fgtXkJwxv5de"
      }
    },
    {
      "cell_type": "code",
      "source": [
        "# Add X and Y\n",
        "\n",
        "Z = X + Y\n",
        "Z"
      ],
      "metadata": {
        "id": "EalM8PYRv5de"
      },
      "execution_count": null,
      "outputs": []
    },
    {
      "cell_type": "markdown",
      "source": [
        "Multiplying a numpy array by a scaler is identical to multiplying a matrix by a scaler. If we multiply the matrix <code>Y</code> by the scaler 2, we simply multiply every element in the matrix by 2, as shown in the figure.\n"
      ],
      "metadata": {
        "id": "l1-hf0vrv5de"
      }
    },
    {
      "cell_type": "markdown",
      "source": [
        "<img src=\"https://cf-courses-data.s3.us.cloud-object-storage.appdomain.cloud/IBMDeveloperSkillsNetwork-PY0101EN-SkillsNetwork/labs/Module%205/images/NumTwoDb.png\" width=\"500\">\n"
      ],
      "metadata": {
        "id": "LK3-Ltcov5de"
      }
    },
    {
      "cell_type": "markdown",
      "source": [
        "We can perform the same operation in numpy as follows\n"
      ],
      "metadata": {
        "id": "bpEeqRVBv5de"
      }
    },
    {
      "cell_type": "code",
      "source": [
        "# Create a numpy array Y\n",
        "\n",
        "Y = np.array([[2, 1], [1, 2]])\n",
        "Y"
      ],
      "metadata": {
        "id": "dA0cRIP1v5de"
      },
      "execution_count": null,
      "outputs": []
    },
    {
      "cell_type": "code",
      "source": [
        "# Multiply Y with 2\n",
        "\n",
        "Z = 2 * Y\n",
        "Z"
      ],
      "metadata": {
        "id": "vEhGcrgYv5de"
      },
      "execution_count": null,
      "outputs": []
    },
    {
      "cell_type": "markdown",
      "source": [
        "Multiplication of two arrays corresponds to an element-wise product or <em>Hadamard product</em>. Consider matrix <code>X</code> and <code>Y</code>. The Hadamard product corresponds to multiplying each of the elements in the same position, i.e. multiplying elements contained in the same color boxes together. The result is a new matrix that is the same size as matrix <code>Y</code> or <code>X</code>, as shown in the following figure.\n"
      ],
      "metadata": {
        "id": "EBoPINZ7v5df"
      }
    },
    {
      "cell_type": "markdown",
      "source": [
        "<img src=\"https://cf-courses-data.s3.us.cloud-object-storage.appdomain.cloud/IBMDeveloperSkillsNetwork-PY0101EN-SkillsNetwork/labs/Module%205/images/NumTwoMul.png\" width=\"500\">\n"
      ],
      "metadata": {
        "id": "1ZRa6p1_v5df"
      }
    },
    {
      "cell_type": "markdown",
      "source": [
        "We can perform element-wise product of the array <code>X</code> and <code>Y</code> as follows:\n"
      ],
      "metadata": {
        "id": "WjQuB-TNv5df"
      }
    },
    {
      "cell_type": "code",
      "source": [
        "# Create a numpy array Y\n",
        "\n",
        "Y = np.array([[2, 1], [1, 2]])\n",
        "Y"
      ],
      "metadata": {
        "id": "Mxsh7f5Fv5df"
      },
      "execution_count": null,
      "outputs": []
    },
    {
      "cell_type": "code",
      "source": [
        "# Create a numpy array X\n",
        "\n",
        "X = np.array([[1, 0], [0, 1]])\n",
        "X"
      ],
      "metadata": {
        "id": "8juvcF8Hv5df"
      },
      "execution_count": null,
      "outputs": []
    },
    {
      "cell_type": "code",
      "source": [
        "# Multiply X with Y\n",
        "\n",
        "Z = X * Y\n",
        "Z"
      ],
      "metadata": {
        "id": "-VjWkqCzv5df"
      },
      "execution_count": null,
      "outputs": []
    },
    {
      "cell_type": "markdown",
      "source": [
        "We can also perform matrix multiplication with the numpy arrays <code>A</code> and <code>B</code> as follows:\n"
      ],
      "metadata": {
        "id": "JfZWIRN2v5df"
      }
    },
    {
      "cell_type": "markdown",
      "source": [
        "First, we define matrix <code>A</code> and <code>B</code>:\n"
      ],
      "metadata": {
        "id": "2FurIiv6v5df"
      }
    },
    {
      "cell_type": "code",
      "source": [
        "# Create a matrix A\n",
        "\n",
        "A = np.array([[0, 1, 1], [1, 0, 1]])\n",
        "A"
      ],
      "metadata": {
        "id": "bgzwPdMtv5df"
      },
      "execution_count": null,
      "outputs": []
    },
    {
      "cell_type": "code",
      "source": [
        "# Create a matrix B\n",
        "\n",
        "B = np.array([[1, 1], [1, 1], [-1, 1]])\n",
        "B"
      ],
      "metadata": {
        "id": "ikeGK0D_v5df"
      },
      "execution_count": null,
      "outputs": []
    },
    {
      "cell_type": "markdown",
      "source": [
        "We use the numpy function <code>dot</code> to multiply the arrays together.\n"
      ],
      "metadata": {
        "id": "aGfsp8a8v5dg"
      }
    },
    {
      "cell_type": "code",
      "source": [
        "# Calculate the dot product\n",
        "\n",
        "Z = np.dot(A,B)\n",
        "Z"
      ],
      "metadata": {
        "id": "CUfLXVVZv5dg"
      },
      "execution_count": null,
      "outputs": []
    },
    {
      "cell_type": "code",
      "source": [
        "# Calculate the sine of Z\n",
        "\n",
        "np.sin(Z)"
      ],
      "metadata": {
        "id": "hPmanjhYv5dg"
      },
      "execution_count": null,
      "outputs": []
    },
    {
      "cell_type": "markdown",
      "source": [
        "We use the numpy attribute <code>T</code> to calculate the transposed matrix\n"
      ],
      "metadata": {
        "id": "VFaJHToJv5dg"
      }
    },
    {
      "cell_type": "code",
      "source": [
        "# Create a matrix C\n",
        "\n",
        "C = np.array([[1,1],[2,2],[3,3]])\n",
        "C"
      ],
      "metadata": {
        "id": "zoAYhl29v5dg"
      },
      "execution_count": null,
      "outputs": []
    },
    {
      "cell_type": "code",
      "source": [
        "# Get the transposed of C\n",
        "\n",
        "C.T"
      ],
      "metadata": {
        "id": "9Q7u8O0dv5dg"
      },
      "execution_count": null,
      "outputs": []
    },
    {
      "cell_type": "markdown",
      "source": [
        "<h2>Quiz on 2D Numpy Array</h2>\n"
      ],
      "metadata": {
        "id": "dTEwP2urv5dg"
      }
    },
    {
      "cell_type": "markdown",
      "source": [
        "Consider the following list <code>a</code>, convert it to Numpy Array.\n"
      ],
      "metadata": {
        "id": "VqyJP2q-v5dg"
      }
    },
    {
      "cell_type": "code",
      "source": [
        "# Write your code below and press Shift+Enter to execute\n",
        "\n",
        "a = [[1, 2, 3, 4], [5, 6, 7, 8], [9, 10, 11, 12]]"
      ],
      "metadata": {
        "id": "JgvF4ZXev5dg"
      },
      "execution_count": null,
      "outputs": []
    },
    {
      "cell_type": "markdown",
      "source": [
        "<details><summary>Click here for the solution</summary>\n",
        "\n",
        "```python\n",
        "A = np.array(a)\n",
        "A\n",
        "```\n",
        "\n",
        "</details>\n"
      ],
      "metadata": {
        "id": "SdO72F68v5dh"
      }
    },
    {
      "cell_type": "markdown",
      "source": [
        "Calculate the numpy array size.\n"
      ],
      "metadata": {
        "id": "2gRUmwHav5dh"
      }
    },
    {
      "cell_type": "code",
      "source": [
        "# Write your code below and press Shift+Enter to execute\n"
      ],
      "metadata": {
        "id": "ZurqbSvNv5dh"
      },
      "execution_count": null,
      "outputs": []
    },
    {
      "cell_type": "markdown",
      "source": [
        "<details><summary>Click here for the solution</summary>\n",
        "\n",
        "```python\n",
        "A.size\n",
        "```\n",
        "\n",
        "</details>\n"
      ],
      "metadata": {
        "id": "C3PxDr3dv5dh"
      }
    },
    {
      "cell_type": "markdown",
      "source": [
        "Access the element on the first row and first and second columns.\n"
      ],
      "metadata": {
        "id": "VfWt84N_v5dh"
      }
    },
    {
      "cell_type": "code",
      "source": [
        "# Write your code below and press Shift+Enter to execute\n"
      ],
      "metadata": {
        "id": "KBi4_iijv5dh"
      },
      "execution_count": null,
      "outputs": []
    },
    {
      "cell_type": "markdown",
      "source": [
        "<details><summary>Click here for the solution</summary>\n",
        "\n",
        "```python\n",
        "A[0][0:2]\n",
        "```\n",
        "\n",
        "</details>\n"
      ],
      "metadata": {
        "id": "z3UixXB4v5dh"
      }
    },
    {
      "cell_type": "markdown",
      "source": [
        "Perform matrix multiplication with the numpy arrays <code>A</code> and <code>B</code>.\n"
      ],
      "metadata": {
        "id": "8bGHrp0xv5dh"
      }
    },
    {
      "cell_type": "code",
      "source": [
        "# Write your code below and press Shift+Enter to execute\n",
        "\n",
        "B = np.array([[0, 1], [1, 0], [1, 1], [-1, 0]])"
      ],
      "metadata": {
        "id": "oiKrkEg7v5dh"
      },
      "execution_count": null,
      "outputs": []
    },
    {
      "cell_type": "markdown",
      "source": [
        "<details><summary>Click here for the solution</summary>\n",
        "\n",
        "```python\n",
        "X = np.dot(A,B)\n",
        "X\n",
        "```\n",
        "\n",
        "</details>\n"
      ],
      "metadata": {
        "id": "FbLVbfjVv5di"
      }
    },
    {
      "cell_type": "markdown",
      "source": [
        "<hr>\n",
        "<h2>The last exercise!</h2>\n",
        "<p>Congratulations, you have completed your first lesson and hands-on lab in Python.\n",
        "<hr>\n"
      ],
      "metadata": {
        "id": "qncK7d-Mv5di"
      }
    },
    {
      "cell_type": "markdown",
      "source": [
        "## Author\n",
        "\n",
        "<a href=\"https://www.linkedin.com/in/joseph-s-50398b136/?utm_medium=Exinfluencer&utm_source=Exinfluencer&utm_content=000026UJ&utm_term=10006555&utm_id=NA-SkillsNetwork-Channel-SkillsNetworkCoursesIBMDeveloperSkillsNetworkPY0101ENSkillsNetwork1005-2022-01-01\" target=\"_blank\">Joseph Santarcangelo</a>\n",
        "\n",
        "\n",
        "## Other contributors\n",
        "\n",
        "<a href=\"www.linkedin.com/in/jiahui-mavis-zhou-a4537814a\">Mavis Zhou</a>\n",
        "\n",
        "\n",
        "## Change Log\n",
        "\n",
        "\n",
        "|  Date (YYYY-MM-DD) |  Version | Changed By  |  Change Description |\n",
        "|---|---|---|---|\n",
        "| 2022-01-10  | 2.1  | Malika  | Removed the readme for GitShare|\n",
        "| 2021-01-05 | 2.2 | Malika | Updated the solution for dot multiplication |\n",
        "| 2020-09-09 | 2.1 | Malika | Updated the screenshot for first two rows of the 3rd column |\n",
        "| 2020-08-26  | 2.0  | Lavanya | Moved lab to course repo in GitLab |\n",
        "|  |   |   |   |\n",
        "|   |   |   |   |\n",
        "\n",
        "\n",
        "\n",
        "<hr/>\n",
        "\n",
        "## <h3 align=\"center\"> © IBM Corporation 2020. All rights reserved. <h3/>\n"
      ],
      "metadata": {
        "id": "UtNdkNLzv5di"
      }
    }
  ]
}