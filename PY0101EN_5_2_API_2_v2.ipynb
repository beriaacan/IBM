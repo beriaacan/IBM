{
  "cells": [
    {
      "cell_type": "markdown",
      "metadata": {
        "id": "view-in-github",
        "colab_type": "text"
      },
      "source": [
        "<a href=\"https://colab.research.google.com/github/beriaacan/IBM/blob/main/PY0101EN_5_2_API_2_v2.ipynb\" target=\"_parent\"><img src=\"https://colab.research.google.com/assets/colab-badge.svg\" alt=\"Open In Colab\"/></a>"
      ]
    },
    {
      "cell_type": "markdown",
      "metadata": {
        "id": "1988568a-cea0-4723-a225-d270db3c3e20"
      },
      "source": [
        "<center>\n",
        "    <img src=\"https://cf-courses-data.s3.us.cloud-object-storage.appdomain.cloud/assets/logos/SN_web_lightmode.png\" width=\"300\" alt=\"cognitiveclass.ai logo\">\n",
        "</center>\n",
        "\n",
        "# Simple APIs\n",
        "## Random User and Fruitvice API Examples\n",
        "\n",
        "\n",
        "Estimated time needed: **25** minutes\n",
        "\n",
        "## Objectives\n",
        "\n",
        "After completing this lab you will be able to:\n",
        "\n",
        "*   Load and use RandomUser API, using `RandomUser()` Python library\n",
        "*   Load and use Fruitvice API, using `requests` Python library\n",
        "\n"
      ]
    },
    {
      "cell_type": "markdown",
      "metadata": {
        "id": "d8fbdc7b-dff6-46df-8e16-917423c29208"
      },
      "source": [
        "The purpose of this notebook is to provide more examples on how to use simple APIs. As you have already learned from previous videos and notebooks, API stands for Application Programming Interface and is a software intermediary that allows two applications to talk to each other.\n",
        "\n",
        "The advantages of using APIs:\n",
        " *   **Automation**. Less human effort is required and workflows can be easily updated to become faster and more      \n",
        "     productive.\n",
        " *   **Efficiency**. It allows to use the capabilities of one of the already developed APIs than to try to\n",
        "     independently implement some functionality from scratch.\n",
        "\n",
        "The disadvantage of using APIs:\n",
        " *   **Security**. If the API is poorly integrated, it means it will be vulnerable to attacks, resulting in data breeches or losses having financial or reputation implications.\n",
        "\n",
        "One of the applications we will use in this notebook is Random User Generator. RandomUser is an open-source, free API providing developers with randomly generated users to be used as placeholders for testing purposes. This makes the tool similar to Lorem Ipsum, but is a placeholder for people instead of text. The API can return multiple results, as well as specify generated user details such as gender, email, image, username, address, title, first and last name, and more. More information on [RandomUser](https://randomuser.me/documentation?utm_medium=Exinfluencer&utm_source=Exinfluencer&utm_content=000026UJ&utm_term=10006555&utm_id=NA-SkillsNetwork-Channel-SkillsNetworkCoursesIBMDeveloperSkillsNetworkPY0101ENSkillsNetwork1005-2023-01-01#intro) can be found here.\n",
        "\n",
        "Another example of simple API we will use in this notebook is Fruitvice application. The Fruitvice API webservice which provides data for all kinds of fruit! You can use Fruityvice to find out interesting information about fruit and educate yourself. The webservice is completely free to use and contribute to.\n"
      ]
    },
    {
      "cell_type": "markdown",
      "metadata": {
        "id": "4a28f376-f10b-4f46-a581-5e584954fe2d"
      },
      "source": [
        "## Example 1: RandomUser API\n",
        "Bellow are Get Methods parameters that we can generate. For more information on the parameters, please visit this [documentation](https://randomuser.me/documentation?utm_medium=Exinfluencer&utm_source=Exinfluencer&utm_content=000026UJ&utm_term=10006555&utm_id=NA-SkillsNetwork-Channel-SkillsNetworkCoursesIBMDeveloperSkillsNetworkPY0101ENSkillsNetwork1005-2023-01-01) page.\n"
      ]
    },
    {
      "cell_type": "markdown",
      "metadata": {
        "id": "e16493b8-df81-42fe-b025-796b94c657fc"
      },
      "source": [
        "## **Get Methods**\n",
        "\n",
        "- get_cell()\n",
        "- get_city()\n",
        "- get_dob()\n",
        "- get_email()\n",
        "- get_first_name()\n",
        "- get_full_name()\n",
        "- get_gender()\n",
        "- get_id()\n",
        "- get_id_number()\n",
        "- get_id_type()\n",
        "- get_info()\n",
        "- get_last_name()\n",
        "- get_login_md5()\n",
        "- get_login_salt()\n",
        "- get_login_sha1()\n",
        "- get_login_sha256()\n",
        "- get_nat()\n",
        "- get_password()\n",
        "- get_phone()\n",
        "- get_picture()\n",
        "- get_postcode()\n",
        "- get_registered()\n",
        "- get_state()\n",
        "- get_street()\n",
        "- get_username()\n",
        "- get_zipcode()\n"
      ]
    },
    {
      "cell_type": "markdown",
      "metadata": {
        "id": "fa8336f1-3045-45d1-b98a-11d8c66ba57b"
      },
      "source": [
        "To start using the API you can install the `randomuser` library running the `pip install` command.\n"
      ]
    },
    {
      "cell_type": "code",
      "metadata": {
        "id": "d9aac3c3-2892-4d60-8940-45a875c874bb"
      },
      "outputs": [],
      "source": [
        "!pip install randomuser"
      ],
      "execution_count": null
    },
    {
      "cell_type": "markdown",
      "metadata": {
        "id": "bb4ba5b2-8bf3-433d-a4c8-bcae8c2453fb"
      },
      "source": [
        "Then, we will load the necessary libraries.\n"
      ]
    },
    {
      "cell_type": "code",
      "metadata": {
        "id": "bb6c96be-04a2-4aed-bf06-d5b46e91fedc"
      },
      "outputs": [],
      "source": [
        "from randomuser import RandomUser\n",
        "import pandas as pd"
      ],
      "execution_count": null
    },
    {
      "cell_type": "markdown",
      "metadata": {
        "id": "03a71dbb-77a9-49dc-808c-13698a7951fb"
      },
      "source": [
        "First, we will create a random user object, r.\n"
      ]
    },
    {
      "cell_type": "code",
      "metadata": {
        "id": "2a26c37d-11f0-4941-8422-73b1598555fd"
      },
      "outputs": [],
      "source": [
        "r = RandomUser()"
      ],
      "execution_count": null
    },
    {
      "cell_type": "markdown",
      "metadata": {
        "id": "f85258e4-1e12-4dc8-98ec-c458fc2fe83b"
      },
      "source": [
        "Then, using `generate_users()` function, we get a list of random 10 users.\n"
      ]
    },
    {
      "cell_type": "code",
      "metadata": {
        "id": "0a37575b-7c45-4239-9dee-789f27cbec9d"
      },
      "outputs": [],
      "source": [
        "some_list = r.generate_users(10)"
      ],
      "execution_count": null
    },
    {
      "cell_type": "code",
      "metadata": {
        "id": "6fa12e1b-c92c-437b-b1bf-3bab96a4a00f"
      },
      "outputs": [],
      "source": [
        "some_list"
      ],
      "execution_count": null
    },
    {
      "cell_type": "markdown",
      "metadata": {
        "id": "a6f342f9-b79e-420c-a9ef-5e0df813d395"
      },
      "source": [
        "The **\"Get Methods\"** functions mentioned at the beginning of this notebook, can generate the required parameters to construct a dataset. For example, to get full name, we call `get_full_name()` function.\n"
      ]
    },
    {
      "cell_type": "code",
      "metadata": {
        "id": "2d7bdf0d-8f7e-460b-9f0e-660c62bd6700"
      },
      "outputs": [],
      "source": [
        "name = r.get_full_name()"
      ],
      "execution_count": null
    },
    {
      "cell_type": "markdown",
      "metadata": {
        "id": "77766201-e4cc-4d58-9613-b09147846f07"
      },
      "source": [
        "Let's say we only need 10 users with full names and their email addresses. We can write a \"for-loop\" to print these 10 users.\n"
      ]
    },
    {
      "cell_type": "code",
      "metadata": {
        "id": "f36e7f57-b3ee-4f09-b769-3e19aed55e3d"
      },
      "outputs": [],
      "source": [
        "for user in some_list:\n",
        "    print (user.get_full_name(),\" \",user.get_email())"
      ],
      "execution_count": null
    },
    {
      "cell_type": "markdown",
      "metadata": {
        "id": "6a2a29fb-0151-4739-9ba9-3cc96388b15a"
      },
      "source": [
        "## Exercise 1\n",
        "In this Exercise, generate photos of the random 5 users.\n"
      ]
    },
    {
      "cell_type": "code",
      "metadata": {
        "id": "817ab174-a667-432f-9606-3dc7a7253aad"
      },
      "outputs": [],
      "source": [
        "## Write your code here\n"
      ],
      "execution_count": null
    },
    {
      "cell_type": "markdown",
      "metadata": {
        "id": "6d1a5e39-3603-4c4b-9452-48fd2719887a"
      },
      "source": [
        "<details><summary>Click here for the solution</summary>\n",
        "\n",
        "```python\n",
        "for user in some_list:\n",
        "    print (user.get_picture())\n",
        "```\n",
        "\n",
        "</details>\n"
      ]
    },
    {
      "cell_type": "markdown",
      "metadata": {
        "id": "10349e9b-13ec-4e88-a077-45f169ae53ae"
      },
      "source": [
        "To generate a table with information about the users, we can write a function containing all desirable parameters. For example, name, gender, city, etc. The parameters will depend on the requirements of the test to be performed. We call the Get Methods, listed at the beginning of this notebook. Then, we return pandas dataframe with the users.\n"
      ]
    },
    {
      "cell_type": "code",
      "metadata": {
        "id": "a38fae5e-f447-4589-9d09-564ee812e907"
      },
      "outputs": [],
      "source": [
        "def get_users():\n",
        "    users =[]\n",
        "\n",
        "    for user in RandomUser.generate_users(10):\n",
        "        users.append({\"Name\":user.get_full_name(),\"Gender\":user.get_gender(),\"City\":user.get_city(),\"State\":user.get_state(),\"Email\":user.get_email(), \"DOB\":user.get_dob(),\"Picture\":user.get_picture()})\n",
        "\n",
        "    return pd.DataFrame(users)"
      ],
      "execution_count": null
    },
    {
      "cell_type": "code",
      "metadata": {
        "id": "6dc72ffe-5833-4450-b4c8-2824741c593b"
      },
      "outputs": [],
      "source": [
        "get_users()"
      ],
      "execution_count": null
    },
    {
      "cell_type": "code",
      "metadata": {
        "id": "4c9ae903-cea0-4d65-9713-d9c783e1a0fc"
      },
      "outputs": [],
      "source": [
        "df1 = pd.DataFrame(get_users())"
      ],
      "execution_count": null
    },
    {
      "cell_type": "markdown",
      "metadata": {
        "id": "0a767e2d-fe9a-4b81-aadf-784d6c42f6ba"
      },
      "source": [
        "Now we have a *pandas* dataframe that can be used for any testing purposes that the tester might have.\n"
      ]
    },
    {
      "cell_type": "markdown",
      "metadata": {
        "id": "c9a3537d-423f-4f03-8407-95facdc266e6"
      },
      "source": [
        "## Example 2: Fruitvice API\n",
        "\n",
        "Another, more common way to use APIs, is through `requests` library. The next lab, Requests and HTTP, will contain more information about requests.\n",
        "\n",
        "We will start by importing all required libraries.\n"
      ]
    },
    {
      "cell_type": "code",
      "metadata": {
        "id": "95a0c4dc-70ef-425c-8c9d-3c314584c429"
      },
      "outputs": [],
      "source": [
        "import requests\n",
        "import json"
      ],
      "execution_count": null
    },
    {
      "cell_type": "markdown",
      "metadata": {
        "id": "d037500e-f4fa-47fb-84df-a40a356fc0bd"
      },
      "source": [
        "We will obtain the [fruitvice](https://www.fruityvice.com/?utm_medium=Exinfluencer&utm_source=Exinfluencer&utm_content=000026UJ&utm_term=10006555&utm_id=NA-SkillsNetwork-Channel-SkillsNetworkCoursesIBMDeveloperSkillsNetworkPY0101ENSkillsNetwork1005-2023-01-01) API data using `requests.get(\"url\")` function. The data is in a json format.\n"
      ]
    },
    {
      "cell_type": "code",
      "metadata": {
        "id": "339d1b39-6f02-4fa2-b155-4be858d76ffb"
      },
      "outputs": [],
      "source": [
        "data = requests.get(\"https://fruityvice.com/api/fruit/all\")"
      ],
      "execution_count": null
    },
    {
      "cell_type": "markdown",
      "metadata": {
        "id": "a246dbf9-9958-4526-8d1b-fe7df22212cc"
      },
      "source": [
        "We will retrieve results using `json.loads()` function.\n"
      ]
    },
    {
      "cell_type": "code",
      "metadata": {
        "id": "ea8566c9-e6ae-4c7c-884b-aabaef2f2226"
      },
      "outputs": [],
      "source": [
        "results = json.loads(data.text)"
      ],
      "execution_count": null
    },
    {
      "cell_type": "markdown",
      "metadata": {
        "id": "1ffab1c5-aaf9-48b8-a4a2-2b24f86ebd84"
      },
      "source": [
        "We will convert our json data into *pandas* data frame.\n"
      ]
    },
    {
      "cell_type": "code",
      "metadata": {
        "id": "d4442604-a368-4bb0-816c-73afb4cc3ecd"
      },
      "outputs": [],
      "source": [
        "pd.DataFrame(results)"
      ],
      "execution_count": null
    },
    {
      "cell_type": "markdown",
      "metadata": {
        "id": "188d0437-348c-4825-9850-0a9371081cb7"
      },
      "source": [
        "The result is in a nested json format. The 'nutrition' column contains multiple subcolumns, so the data needs to be 'flattened' or normalized.\n"
      ]
    },
    {
      "cell_type": "code",
      "metadata": {
        "id": "231c3de3-a472-4943-8db1-38634047057c"
      },
      "outputs": [],
      "source": [
        "df2 = pd.json_normalize(results)"
      ],
      "execution_count": null
    },
    {
      "cell_type": "code",
      "metadata": {
        "id": "5717ce73-365d-43e6-93e9-6becbf2288b1"
      },
      "outputs": [],
      "source": [
        "df2"
      ],
      "execution_count": null
    },
    {
      "cell_type": "markdown",
      "metadata": {
        "id": "3d4e131d-0317-4438-a0f6-78784817db56"
      },
      "source": [
        "Let's see if we can extract some information from this dataframe. Perhaps, we need to know the family and genus of a cherry.\n"
      ]
    },
    {
      "cell_type": "code",
      "metadata": {
        "id": "efc6284d-6b10-471f-9485-fd9e4e32cd89"
      },
      "outputs": [],
      "source": [
        "cherry = df2.loc[df2[\"name\"] == 'Cherry']\n",
        "(cherry.iloc[0]['family']) , (cherry.iloc[0]['genus'])"
      ],
      "execution_count": null
    },
    {
      "cell_type": "markdown",
      "metadata": {
        "id": "1c44df70-9fd1-4a48-a0eb-ebf3cf8cc7d9"
      },
      "source": [
        "## Exercise 2\n",
        "In this Exercise, find out how many calories are contained in a banana.\n"
      ]
    },
    {
      "cell_type": "code",
      "metadata": {
        "id": "bb1a05a6-1308-4f66-90bc-7b52a7c9bfcf"
      },
      "outputs": [],
      "source": [
        "# Write your code here\n"
      ],
      "execution_count": null
    },
    {
      "cell_type": "markdown",
      "metadata": {
        "id": "1a34ca8f-601f-4c6f-9211-b26f2a4768c8"
      },
      "source": [
        "<details><summary>Click here for the solution</summary>\n",
        "\n",
        "```python\n",
        "cal_banana = df2.loc[df2[\"name\"] == 'Banana']\n",
        "cal_banana.iloc[0]['nutritions.calories']\n",
        "```\n",
        "\n",
        "</details>\n"
      ]
    },
    {
      "cell_type": "markdown",
      "metadata": {
        "id": "29919afd-5061-469f-af74-5d4f33cbfe81"
      },
      "source": [
        "## Exercise 3\n",
        "\n",
        "This [page](https://github.com/public-apis/public-apis#animals) contains a list of free public APIs. Choose any API of your interest and use it to load/extract some information, as shown in the example above.\n",
        "1. Using `requests.get(\"url\")` function, load your data.\n"
      ]
    },
    {
      "cell_type": "code",
      "metadata": {
        "id": "475ec748-2a56-4fb2-a8d2-1ec86f400d0e"
      },
      "outputs": [],
      "source": [
        "# Write your code here\n"
      ],
      "execution_count": null
    },
    {
      "cell_type": "markdown",
      "metadata": {
        "id": "8108f48f-9fa5-4a88-a3fc-bc706934519c"
      },
      "source": [
        "<details><summary>Click here for the solution</summary>\n",
        "\n",
        "```python\n",
        "data2 = requests.get(\"https://cat-fact.herokuapp.com/facts\")\n",
        "```\n",
        "\n",
        "</details>\n"
      ]
    },
    {
      "cell_type": "markdown",
      "metadata": {
        "id": "70edad72-7ddb-44f8-a883-755e35042541"
      },
      "source": [
        "2. Retrieve results using `json.loads()` function.\n"
      ]
    },
    {
      "cell_type": "code",
      "metadata": {
        "id": "2898219a-8cfe-4aa2-a58e-99fbf7c151cf"
      },
      "outputs": [],
      "source": [
        "# Write your code here\n"
      ],
      "execution_count": null
    },
    {
      "cell_type": "markdown",
      "metadata": {
        "id": "e7ec0e6e-e479-47a5-9990-b49244e757f4"
      },
      "source": [
        "<details><summary>Click here for the solution</summary>\n",
        "\n",
        "```python\n",
        "results2 = json.loads(data2.text)\n",
        "```\n",
        "\n",
        "</details>\n"
      ]
    },
    {
      "cell_type": "markdown",
      "metadata": {
        "id": "97b7e180-4e8b-43d8-abbb-255ad0d48f45"
      },
      "source": [
        "3. Convert json data into *pandas* data frame.\n"
      ]
    },
    {
      "cell_type": "code",
      "metadata": {
        "id": "983b3ea9-12d6-415a-b54a-821c9185e177"
      },
      "outputs": [],
      "source": [
        "# Write your code here\n"
      ],
      "execution_count": null
    },
    {
      "cell_type": "markdown",
      "metadata": {
        "id": "27927e7d-b3d3-4949-b9f0-6d52625b510b"
      },
      "source": [
        "<details><summary>Click here for the solution</summary>\n",
        "\n",
        "```python\n",
        "df3 = pd.DataFrame(results2)\n",
        "df3.drop(columns=\"status\",inplace=True)\n",
        "df3\n",
        "```\n",
        "\n",
        "</details>\n"
      ]
    },
    {
      "cell_type": "markdown",
      "metadata": {
        "id": "d215c047-22d2-4c21-9105-1d6be57a2dba"
      },
      "source": [
        "# Congratulations! - You have completed the lab\n"
      ]
    },
    {
      "cell_type": "markdown",
      "metadata": {
        "id": "04fed573-4510-40ae-b12d-b60fc3c5d2f7"
      },
      "source": [
        "## Author\n",
        "[Svitlana Kramar](www.linkedin.com/in/svitlana-kramar)\n",
        "\n",
        "\n",
        "Svitlana is a master’s degree Data Science and Analytics student at University of Calgary, who enjoys travelling, learning new languages and cultures and loves spreading her passion for Data Science.\n"
      ]
    },
    {
      "cell_type": "markdown",
      "metadata": {
        "id": "1fbd281b-3ad5-4db5-a7d9-f635ffdb4c1e"
      },
      "source": [
        "                                Copyright © 2020 IBM Corporation. All rights reserved.\n"
      ]
    }
  ],
  "metadata": {
    "kernelspec": {
      "display_name": "Python",
      "language": "python",
      "name": "conda-env-python-py"
    },
    "language_info": {
      "name": ""
    },
    "colab": {
      "provenance": [],
      "include_colab_link": true
    }
  },
  "nbformat": 4,
  "nbformat_minor": 0
}